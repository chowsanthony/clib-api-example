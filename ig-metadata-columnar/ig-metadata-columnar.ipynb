{
 "cells": [
  {
   "cell_type": "markdown",
   "metadata": {},
   "source": [
    "# Synopsis\n",
    "\n",
    "This Jupyter Notebook is designed to interact with the CDISC Library API to retrieve and process metadata from various CDISC Implementation Guides (IGs). The primary objectives of this notebook are:\n",
    "\n",
    "1. **Installation and Setup**:\n",
    "\t- Install the `cdisc_library_client` package from PyPI.\n",
    "\t- Import necessary modules and set up the CDISC Library client using an API key stored in the environment variables.\n",
    "\n",
    "2. **Retrieving Metadata**:\n",
    "\t- Use the CDISC Library client to fetch metadata for different versions of Implementation Guides such as SENDIG, SENDIG-DART, SDTMIG, and SDTMIG-MD.\n",
    "\t- Store the retrieved metadata in a variable named `ig`.\n",
    "\n",
    "3. **Processing Metadata**:\n",
    "\t- Define functions to extract classes and datasets from the IG metadata.\n",
    "\t- Define a function to retrieve specific codelists from the CDISC Library using provided hrefs.\n",
    "\t- Define a function to rearrange the extracted classes and datasets into a columnar format suitable for creating a pandas DataFrame.\n",
    "\n",
    "4. **Data Transformation and Output**:\n",
    "\t- Extract classes and datasets from the IG metadata.\n",
    "\t- Flatten the extracted data into a pandas DataFrame.\n",
    "\t- Output the DataFrame to a CSV file named `ig-class-dataset-variable.csv`.\n",
    "\n",
    "5. **Documentation and Additional Information**:\n",
    "\t- Provide instructions on setting environment variables and additional APIs available in the CDISC Library client.\n",
    "\t- Include notes on using short names for codelists and the expected time for processing.\n",
    "\n",
    "Overall, this notebook aims to automate the retrieval, processing, and transformation of CDISC IG metadata into a structured format that can be easily analyzed and exported for further use."
   ]
  },
  {
   "cell_type": "markdown",
   "metadata": {},
   "source": [
    "Install CDISC Library client from PyPI, plus Pandas & Numpy in case you do not have them in your Python version environment."
   ]
  },
  {
   "cell_type": "code",
   "execution_count": null,
   "metadata": {},
   "outputs": [],
   "source": [
    "%pip install cdisc_library_client\n",
    "%pip install pandas\n",
    "%pip install numpy"
   ]
  },
  {
   "cell_type": "code",
   "execution_count": 1,
   "metadata": {},
   "outputs": [],
   "source": [
    "import os\n",
    "from cdisc_library_client import CDISCLibraryClient\n",
    "import pandas as pd"
   ]
  },
  {
   "cell_type": "markdown",
   "metadata": {},
   "source": [
    "To set a permenent environment variable in user scope using PowerShell: `[System.Environment]::SetEnvironmentVariable(\"MY_VAR\", \"HelloWorld\", \"User\")`"
   ]
  },
  {
   "cell_type": "code",
   "execution_count": 2,
   "metadata": {},
   "outputs": [],
   "source": [
    "api_key = os.environ.get(\"CDISC_LIBRARY_API_KEY\")\n",
    "client = CDISCLibraryClient(api_key=api_key)"
   ]
  },
  {
   "cell_type": "code",
   "execution_count": 8,
   "metadata": {},
   "outputs": [],
   "source": [
    "def extract_classes_datasets(ig):\n",
    "\t\"\"\"\n",
    "\tExtracts datasets from the IG classes.\n",
    "\n",
    "\tArgs:\n",
    "\t\tig (dict): The IG metadata returned by the CDISC Library API.\n",
    "\n",
    "\tReturns:\n",
    "\t\tdict: A dictionary where keys are class names and values are dictionaries\n",
    "\t\twith dataset names as keys and dataset details as values.\n",
    "\t\"\"\"\n",
    "\treturn {\n",
    "\t\tcls['name']: {\n",
    "\t\t\tdataset['name']: {\n",
    "\t\t\t\t'class_name': cls['name'],\n",
    "\t\t\t\t'ordinal': dataset.get('ordinal'),\n",
    "\t\t\t\t'name': dataset.get('name'),\n",
    "\t\t\t\t'label': dataset.get('label'),\n",
    "\t\t\t\t'description': dataset.get('description'),\n",
    "\t\t\t\t'datasetStructure': dataset.get('datasetStructure')\n",
    "\t\t\t}\n",
    "\t\t\tfor dataset in cls.get('datasets', [])\n",
    "\t\t}\n",
    "\t\tfor cls in ig.get('classes', [])\n",
    "\t}"
   ]
  },
  {
   "cell_type": "code",
   "execution_count": 9,
   "metadata": {},
   "outputs": [],
   "source": [
    "def extract_datasets_variables(ig):\n",
    "\t\"\"\"\n",
    "\tExtracts variables from the IG datasets.\n",
    "\n",
    "\tArgs:\n",
    "\t\tig (dict): The IG metadata returned by the CDISC Library API.\n",
    "\n",
    "\tReturns:\n",
    "\t\tdict: A dictionary where keys are class names and values are dictionaries\n",
    "\t\twith dataset names as keys and lists of variables as values.\n",
    "\t\"\"\"\n",
    "\treturn {\n",
    "\t\tcls['name']: {\n",
    "\t\t\tdataset['name']: [\n",
    "\t\t\t\t{\n",
    "\t\t\t\t\t'core': variable.get('core'),\n",
    "\t\t\t\t\t'description': variable.get('description'),\n",
    "\t\t\t\t\t'label': variable.get('label'),\n",
    "\t\t\t\t\t'name': variable.get('name'),\n",
    "\t\t\t\t\t'ordinal': variable.get('ordinal'),\n",
    "\t\t\t\t\t'role': variable.get('role'),\n",
    "\t\t\t\t\t'simpleDatatype': variable.get('simpleDatatype'),\n",
    "\t\t\t\t\t'codelist': variable.get('_links', {}).get('codelist', [{}])[0].get('href'),\n",
    "\t\t\t\t\t'valueList': variable.get('valueList'),\n",
    "\t\t\t\t\t'describedValueDomain': variable.get('describedValueDomain')\n",
    "\t\t\t\t}\n",
    "\t\t\t\tfor variable in dataset.get('datasetVariables', [])\n",
    "\t\t\t]\n",
    "\t\t\tfor dataset in cls.get('datasets', [])\n",
    "\t\t}\n",
    "\t\tfor cls in ig.get('classes', [])\n",
    "\t}"
   ]
  },
  {
   "cell_type": "code",
   "execution_count": 10,
   "metadata": {},
   "outputs": [],
   "source": [
    "def get_codelist_from_rootct_href(href):\n",
    "\t\"\"\"\n",
    "\tRetrieves a CDISC CT codelist of specific version from the CDISC Library using the provided href.\n",
    "\n",
    "\tArgs:\n",
    "\thref (str): The href of the root codelist, e.g., /mdr/root/ct/sdtmct/codelists/C66742\n",
    "\n",
    "\tReturns:\n",
    "\tdict: The specific version of codelist retrieved from the CDISC Library.\n",
    "\t\"\"\"\n",
    "\trequest = f\"/mdr/ct/packages/{ct_package}/codelists/{href.split('/')[-1]}\"\n",
    "\tcodelist = client.get_api_json(request)\n",
    "\treturn codelist"
   ]
  },
  {
   "cell_type": "code",
   "execution_count": 11,
   "metadata": {},
   "outputs": [],
   "source": [
    "def create_datasets_table(classes_datasets, ct_shortname=False):\n",
    "\t\"\"\"\n",
    "\tRearrange classes and datasets dictionary into a columnar arrangement.\n",
    "\n",
    "\tArgs:\n",
    "\t\tclasses_datasets (dict): A dictionary where keys are class names and values are dictionaries\n",
    "\t\t\twith dataset names as keys and lists of variables as values.\n",
    "\t\tct_shortname (bool): If True, look up the short name of the codelist. Otherwise, the NCIt c-code parsed from the root CT href.\n",
    "\n",
    "\tReturns:\n",
    "\t\tpd.DataFrame: A DataFrame containing the flattened data from the classes_datasets dictionary.\n",
    "\t\"\"\"\n",
    "\tdata = [\n",
    "\t\t{\n",
    "\t\t\t'Class': class_name,\n",
    "\t\t\t'Dataset Name': dataset_name,\n",
    "\t\t\t'Order': variable['ordinal'],\n",
    "\t\t\t'Variable Name': variable['name'],\n",
    "\t\t\t'Label': variable['label'],\n",
    "\t\t\t'Type': variable['simpleDatatype'],\n",
    "\t\t\t'Codelist': get_codelist_from_rootct_href(variable['codelist']).get('submissionValue') if ct_shortname and variable['codelist'] else (variable['codelist'].split('/')[-1] if variable['codelist'] else None),\n",
    "\t\t\t'Value list': '; '.join(variable['valueList']) if isinstance(variable['valueList'], list) else variable['valueList'],\n",
    "\t\t\t'Format': variable['describedValueDomain'],\n",
    "\t\t\t'Role': variable['role'],\n",
    "\t\t\t'Notes': variable['description'],\n",
    "\t\t\t'Core': variable['core']\n",
    "\t\t}\n",
    "\t\tfor class_name, datasets in classes_datasets.items()\n",
    "\t\tfor dataset_name, variables in datasets.items()\n",
    "\t\tfor variable in variables\n",
    "\t]\n",
    "\treturn pd.DataFrame(data)"
   ]
  },
  {
   "cell_type": "code",
   "execution_count": 15,
   "metadata": {},
   "outputs": [],
   "source": [
    "# SDTMIG v3.4\n",
    "ig = client.get_sdtmig(version=\"3-4\")\n",
    "ct_package = \"sdtmct-2024-09-27\""
   ]
  },
  {
   "cell_type": "markdown",
   "metadata": {},
   "source": [
    "Additional CDISC Library client API request example provided. You can further automate using the `/mdr/product` endpoint. Refer to its GitHub repo for details: https://github.com/cdisc-org/cdisc-library-client"
   ]
  },
  {
   "cell_type": "code",
   "execution_count": 19,
   "metadata": {},
   "outputs": [],
   "source": [
    "# SENDIG v3.1.1\n",
    "ig = client.get_sendig(version=\"3-1-1\")\n",
    "ct_package = \"sendct-2024-09-27\""
   ]
  },
  {
   "cell_type": "code",
   "execution_count": 5,
   "metadata": {},
   "outputs": [],
   "source": [
    "# SENDIG-DART v1.1\n",
    "ig = client.get_sendig(version=\"dart-1-1\")\n",
    "ct_package = \"sendct-2024-09-27\""
   ]
  },
  {
   "cell_type": "code",
   "execution_count": 23,
   "metadata": {},
   "outputs": [],
   "source": [
    "# SDTMIG v3.2\n",
    "ig = client.get_sdtmig(version=\"3-2\")\n",
    "ct_package = \"sdtmct-2024-09-27\""
   ]
  },
  {
   "cell_type": "code",
   "execution_count": 27,
   "metadata": {},
   "outputs": [],
   "source": [
    "# SDTMIG v3.3\n",
    "ig = client.get_sdtmig(version=\"3-3\")\n",
    "ct_package = \"sdtmct-2024-09-27\""
   ]
  },
  {
   "cell_type": "code",
   "execution_count": 7,
   "metadata": {},
   "outputs": [],
   "source": [
    "# SDTMIG-MD v1.1\n",
    "ig = client.get_sdtmig(version=\"md-1-1\")\n",
    "ct_package = \"sdtmct-2024-09-27\""
   ]
  },
  {
   "cell_type": "markdown",
   "metadata": {},
   "source": [
    "1. Retrieve the metadata from CDISC Library using the client\n",
    "1. Make it look like the specification tables in SDTMIG PDF\n",
    "1. Output to a flat file"
   ]
  },
  {
   "cell_type": "code",
   "execution_count": 28,
   "metadata": {},
   "outputs": [],
   "source": [
    "filename_prefix = ig[\"name\"].lower().replace(\" \", \"-\").replace(\".\", \"-\").replace(\"v\", \"\")"
   ]
  },
  {
   "cell_type": "markdown",
   "metadata": {},
   "source": [
    "Output dataset metadata"
   ]
  },
  {
   "cell_type": "code",
   "execution_count": 29,
   "metadata": {},
   "outputs": [],
   "source": [
    "# Extract classes_datasets\n",
    "classes_datasets = extract_classes_datasets(ig)\n",
    "\n",
    "# Flatten the classes_datasets dictionary and convert it to a DataFrame\n",
    "flattened_data = [\n",
    "\t{**details}\n",
    "\tfor class_name, datasets in classes_datasets.items()\n",
    "\tfor dataset_name, details in datasets.items()\n",
    "]\n",
    "\n",
    "# Convert the flattened data to a DataFrame and output as CSV\n",
    "filename = f\"{filename_prefix}-datasets.csv\"\n",
    "pd.DataFrame(flattened_data).to_csv(filename, index=False)"
   ]
  },
  {
   "cell_type": "markdown",
   "metadata": {},
   "source": [
    "Output variable metadata, mimicking the domain table specification layout. \n",
    "\n",
    "Set `ct_shortname` to `True` to use the short name of the codelist instead of the NCIt C-code. This process will take approximately two minutes, as it includes an additional step to look up each submission value from a C-code."
   ]
  },
  {
   "cell_type": "code",
   "execution_count": 30,
   "metadata": {},
   "outputs": [],
   "source": [
    "# Extract datasets variables\n",
    "datasets_variables = extract_datasets_variables(ig)\n",
    "\n",
    "# Flatten datasets variables to a columnar arrangement\n",
    "df = create_datasets_table(datasets_variables, ct_shortname=False)\n",
    "\n",
    "# Output as CSV\n",
    "filename = f\"{filename_prefix}-datasets-variables.csv\"\n",
    "df.to_csv(filename, index=False)"
   ]
  }
 ],
 "metadata": {
  "kernelspec": {
   "display_name": "3.10.11",
   "language": "python",
   "name": "python3"
  },
  "language_info": {
   "codemirror_mode": {
    "name": "ipython",
    "version": 3
   },
   "file_extension": ".py",
   "mimetype": "text/x-python",
   "name": "python",
   "nbconvert_exporter": "python",
   "pygments_lexer": "ipython3",
   "version": "3.10.11"
  }
 },
 "nbformat": 4,
 "nbformat_minor": 2
}
