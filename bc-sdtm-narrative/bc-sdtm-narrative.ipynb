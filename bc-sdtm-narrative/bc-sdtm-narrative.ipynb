{
 "cells": [
  {
   "cell_type": "code",
   "execution_count": null,
   "metadata": {},
   "outputs": [],
   "source": [
    "%pip install cdisc_library_client\n",
    "%pip install pandas\n",
    "%pip install numpy\n",
    "%pip install markdown"
   ]
  },
  {
   "cell_type": "code",
   "execution_count": 1,
   "metadata": {},
   "outputs": [],
   "source": [
    "import os\n",
    "import pandas as pd\n",
    "import random\n",
    "import json\n",
    "import markdown\n",
    "from string import Template\n",
    "\n",
    "from cdisc_library_client import CDISCLibraryClient"
   ]
  },
  {
   "cell_type": "markdown",
   "metadata": {},
   "source": [
    "To set a permenent environment variable in user scope using PowerShell:\n",
    "`[System.Environment]::SetEnvironmentVariable(\"MY_VAR\", \"HelloWorld\", \"User\")`"
   ]
  },
  {
   "cell_type": "code",
   "execution_count": 2,
   "metadata": {},
   "outputs": [],
   "source": [
    "api_key = os.environ.get(\"CDISC_LIBRARY_API_KEY\")\n",
    "client = CDISCLibraryClient(api_key=api_key)"
   ]
  },
  {
   "cell_type": "code",
   "execution_count": 3,
   "metadata": {},
   "outputs": [],
   "source": [
    "cosmos_api_version = \"v2\"\n",
    "all_dss = client.get_sdtm_latest_sdtm_datasetspecializations(cosmos_api_version)"
   ]
  },
  {
   "cell_type": "code",
   "execution_count": null,
   "metadata": {},
   "outputs": [],
   "source": [
    "def generate_introduction_narrative(data):\n",
    "    \"\"\"\n",
    "    Generates a markdown narrative for the introduction section of a CDISC SDTM Dataset Specialization.\n",
    "\n",
    "    Args:\n",
    "        data (dict): A dictionary containing information about the dataset specialization.\n",
    "\n",
    "    Returns:\n",
    "        str: A markdown formatted string containing the introduction narrative.\n",
    "    \"\"\"\n",
    "\n",
    "    template = Template(\"\"\"\n",
    "# CDISC Biomdical Concepts\n",
    "## SDTM Dataset Specialization for $shortName\n",
    "\n",
    "The data provided represents a detailed structure of variables related to the `$shortName` dataset specialization, denoted by the ID: `$dssId`.\n",
    "It corresponds to the `$domain` domain in the Study Data Tabulation Model (SDTM).\n",
    "                        \n",
    "Here is a detailed breakdown of the key elements of this dataset specialization:\n",
    "\n",
    "- High-Level Information:\n",
    "\t - This dataset is specialized for `$shortName`, identified with the ID of `$dssId`.\n",
    "\t - It corresponds to the `$domain` domain and and draws its source from `$source`.\n",
    "\t - The dataset is designed to be compliant with the SDTMIG versions `$sdtmigStartVersion` to `$sdtmigEndVersion`.\n",
    "\n",
    "- Variable Details:\n",
    "\"\"\")\n",
    "\n",
    "    # Fill the template\n",
    "    markdown = template.substitute(shortName=data['shortName'], dssId=data['datasetSpecializationId'],\n",
    "                                   domain=data['domain'], source=data['source'],\n",
    "                                   sdtmigStartVersion=data['sdtmigStartVersion'], sdtmigEndVersion=data['sdtmigEndVersion'])\n",
    "\n",
    "    return markdown"
   ]
  },
  {
   "cell_type": "code",
   "execution_count": null,
   "metadata": {},
   "outputs": [],
   "source": [
    "def generate_variable_narrative(data):\n",
    "\t\"\"\"\n",
    "\tGenerates a markdown narrative for the variables section of a CDISC SDTM Dataset Specialization.\n",
    "\n",
    "\tArgs:\n",
    "\t\tdata (dict): A dictionary containing information about the dataset specialization.\n",
    "\n",
    "\tReturns:\n",
    "\t\tstr: A markdown formatted string containing the variables narrative.\n",
    "\t\"\"\"\n",
    "\n",
    "\tdef format_relationship(relationship):\n",
    "\t\treturn f\"{relationship['subject']} {relationship['linkingPhrase']} ({relationship['predicateTerm']}) {relationship['object']}\"\n",
    "\n",
    "\ttemplate = Template(\"\"\"\n",
    "\t1. **$name**\n",
    "\t\t- Data element definition: `$dataElementConceptId`\n",
    "\t\t- Variable is non-standard: `$isNonStandard`\n",
    "\t\t- Role: `$role`\n",
    "\t\t- Variable must be present: `$mandatoryVariable`\n",
    "\t\t- Variable must Be populated: `$mandatoryValue`\n",
    "\n",
    "\t\t- Data Type: `$dataType`\n",
    "\t\t- Length: `$length`\n",
    "\t\t- Origin Type: `$originType`\n",
    "\t\t- Origin Source: `$originSource`\n",
    "\t\t- Variable is a target: `$vlmTarget`\n",
    "\n",
    "\t\t- Assigned Term: `$assignedTerm`\n",
    "\n",
    "\t\t- Codelist Concept ID: `$codelistConceptId`\n",
    "\t\t- Submission Value: `$codelistSubmissionValue`\n",
    "\t\t- Concept URL: `$codelistHref`\n",
    "\t\t- Value List: `$valueList`\n",
    "\n",
    "\t\t- Relationship: `$relationship`\n",
    "\"\"\")\n",
    "\n",
    "\tnarrative = []\n",
    "\n",
    "\tfor variable in data['variables']:\n",
    "\t\tvariable_info = template.substitute(\n",
    "\t\t\tname=variable['name'],\n",
    "\t\t\tdataElementConceptId=variable.get('dataElementConceptId', 'N/A'),\n",
    "\t\t\tisNonStandard=variable.get('isNonStandard', 'N/A'),\n",
    "\t\t\trole=variable.get('role', 'N/A'),\n",
    "\t\t\tmandatoryVariable=variable.get('mandatoryVariable', 'N/A'),\n",
    "\t\t\tmandatoryValue=variable.get('mandatoryValue', 'N/A'),\n",
    "\t\t\tassignedTerm=variable.get('assignedTerm', 'N/A'),\n",
    "\t\t\trelationship=format_relationship(variable['relationship']) if 'relationship' in variable else 'N/A',\n",
    "\t\t\tdataType=variable.get('dataType', 'N/A'),\n",
    "\t\t\tlength=variable.get('length', 'N/A'),\n",
    "\t\t\toriginType=variable.get('originType', 'N/A'),\n",
    "\t\t\toriginSource=variable.get('originSource', 'N/A'),\n",
    "\t\t\tvlmTarget=variable.get('vlmTarget', 'N/A'),\n",
    "\t\t\tcodelistConceptId=variable.get('codelist', {}).get('conceptId', 'N/A'),\n",
    "\t\t\tcodelistSubmissionValue=variable.get('codelist', {}).get('submissionValue', 'N/A'),\n",
    "\t\t\tcodelistHref=variable.get('codelist', {}).get('href', 'N/A'),\n",
    "\t\t\tvalueList=', '.join(variable.get('valueList', []))\n",
    "\t\t)\n",
    "\n",
    "\t\tnarrative.append(variable_info)\n",
    "\n",
    "\treturn \"\\n\".join(narrative)"
   ]
  },
  {
   "cell_type": "markdown",
   "metadata": {},
   "source": [
    "Rerun this cell for generating an additional narrative. "
   ]
  },
  {
   "cell_type": "code",
   "execution_count": 9,
   "metadata": {},
   "outputs": [],
   "source": [
    "# Select a random dataset specialization from the list of all dataset specializations\n",
    "selected_dss = random.choice(all_dss)\n",
    "\n",
    "# Extract the dataset specialization name from the href\n",
    "dss_name = selected_dss[\"href\"].split(\"/\")[-1]\n",
    "\n",
    "# Retrieve the detailed information for the selected dataset specialization using CDISC Library API\n",
    "dss = client.get_sdtm_latest_sdtm_datasetspecialization(cosmos_api_version, dss_name)\n",
    "\n",
    "# Generate the markdown narrative for the introduction and variables sections\n",
    "narrative = generate_introduction_narrative(dss) + generate_variable_narrative(dss)\n",
    "\n",
    "# Write the generated narrative to a markdown file\n",
    "with open(f\"{dss_name}.md\", \"w\") as file:\n",
    "\tfile.write(narrative)"
   ]
  }
 ],
 "metadata": {
  "kernelspec": {
   "display_name": "3.10.11",
   "language": "python",
   "name": "python3"
  },
  "language_info": {
   "codemirror_mode": {
    "name": "ipython",
    "version": 3
   },
   "file_extension": ".py",
   "mimetype": "text/x-python",
   "name": "python",
   "nbconvert_exporter": "python",
   "pygments_lexer": "ipython3",
   "version": "3.10.11"
  }
 },
 "nbformat": 4,
 "nbformat_minor": 2
}
